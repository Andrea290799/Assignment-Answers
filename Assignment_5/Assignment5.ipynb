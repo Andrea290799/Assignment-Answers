{
 "cells": [
  {
   "cell_type": "markdown",
   "metadata": {},
   "source": [
    "## ASSIGNMENT 5 -SPARQL QUERIES\n",
    "#### ANDREA ESCOLAR PEÑA"
   ]
  },
  {
   "cell_type": "code",
   "execution_count": 1,
   "metadata": {},
   "outputs": [
    {
     "data": {
      "text/html": [
       "<div class=\"krn-spql\"><div class=\"magic\">Endpoint set to: https://sparql.uniprot.org/sparql</div><div class=\"magic\">Request format: JSON</div></div>"
      ],
      "text/plain": [
       "Endpoint set to: https://sparql.uniprot.org/sparql\n",
       "Request format: JSON\n"
      ]
     },
     "metadata": {},
     "output_type": "display_data"
    }
   ],
   "source": [
    "%endpoint https://sparql.uniprot.org/sparql\n",
    "%format JSON"
   ]
  },
  {
   "cell_type": "markdown",
   "metadata": {},
   "source": [
    "How many protein records are in UniProt? "
   ]
  },
  {
   "cell_type": "code",
   "execution_count": 2,
   "metadata": {},
   "outputs": [
    {
     "data": {
      "text/html": [
       "<div class=\"krn-spql\"><table><tr class=hdr><th>n</th></tr><tr class=odd><td class=val>360157660</td></tr></table><div class=\"tinfo\">Total: 1, Shown: 1</div></div>"
      ]
     },
     "metadata": {},
     "output_type": "display_data"
    }
   ],
   "source": [
    "PREFIX up: <http://purl.uniprot.org/core/>\n",
    "\n",
    "SELECT (COUNT(?protein) AS ?n)\n",
    "WHERE\n",
    "{\n",
    "    ?protein a up:Protein .\n",
    "}"
   ]
  },
  {
   "cell_type": "markdown",
   "metadata": {},
   "source": [
    "How many Arabidopsis thaliana protein records are in UniProt?"
   ]
  },
  {
   "cell_type": "code",
   "execution_count": 3,
   "metadata": {},
   "outputs": [
    {
     "data": {
      "text/html": [
       "<div class=\"krn-spql\"><table><tr class=hdr><th>n</th></tr><tr class=odd><td class=val>136782</td></tr></table><div class=\"tinfo\">Total: 1, Shown: 1</div></div>"
      ]
     },
     "metadata": {},
     "output_type": "display_data"
    }
   ],
   "source": [
    "PREFIX rdfs: <http://www.w3.org/2000/01/rdf-schema#>\n",
    "PREFIX up: <http://purl.uniprot.org/core/>\n",
    "\n",
    "SELECT (COUNT (DISTINCT ?protein) AS ?n) \n",
    "WHERE\n",
    "{\n",
    "    ?protein a up:Protein .\n",
    "    ?protein ?pred1 ?taxon .\n",
    "    ?taxon a up:Taxon .\n",
    "    ?taxon ?pred2 \"Arabidopsis thaliana\" \n",
    "}"
   ]
  },
  {
   "cell_type": "markdown",
   "metadata": {},
   "source": [
    "Retrieve pictures of Arabidopsis thaliana from UniProt"
   ]
  },
  {
   "cell_type": "code",
   "execution_count": 4,
   "metadata": {},
   "outputs": [
    {
     "data": {
      "text/html": [
       "<div class=\"krn-spql\"><table><tr class=hdr><th>picture</th></tr><tr class=odd><td class=val><a href=\"https://upload.wikimedia.org/wikipedia/commons/3/39/Arabidopsis.jpg\" target=\"_other\">https://upload.wikimedia.org/wikipedia/commons/3/39/Arabidopsis.jpg</a></td></tr><tr class=even><td class=val><a href=\"https://upload.wikimedia.org/wikipedia/commons/thumb/6/60/Arabidopsis_thaliana_inflorescencias.jpg/800px-Arabidopsis_thaliana_inflorescencias.jpg\" target=\"_other\">https://upload.wikimedia.org/wikipedia/commons/thumb/6/60/Arabidopsis_thaliana_inflorescencias.jpg/800px-Arabidopsis_thaliana_inflorescencias.jpg</a></td></tr></table><div class=\"tinfo\">Total: 2, Shown: 2</div></div>"
      ]
     },
     "metadata": {},
     "output_type": "display_data"
    }
   ],
   "source": [
    "PREFIX foaf: <http://xmlns.com/foaf/0.1/>\n",
    "PREFIX up: <http://purl.uniprot.org/core/>\n",
    "\n",
    "SELECT ?picture\n",
    "WHERE\n",
    "{\n",
    "    ?taxon a up:Taxon .\n",
    "    ?taxon ?pred1 \"Arabidopsis thaliana\" .\n",
    "  \t?taxon ?pred2 ?picture .\n",
    "  \t?picture a foaf:Image \t\n",
    "}"
   ]
  },
  {
   "cell_type": "markdown",
   "metadata": {},
   "source": [
    "What is the description of the enzyme activity of UniProt Protein Q9SZZ8?"
   ]
  },
  {
   "cell_type": "code",
   "execution_count": 5,
   "metadata": {},
   "outputs": [
    {
     "data": {
      "text/html": [
       "<div class=\"krn-spql\"><table><tr class=hdr><th>description</th></tr><tr class=odd><td class=val>Beta-carotene + 4 reduced ferredoxin [iron-sulfur] cluster + 2 H(+) + 2 O(2) = zeaxanthin + 4 oxidized ferredoxin [iron-sulfur] cluster + 2 H(2)O.</td></tr></table><div class=\"tinfo\">Total: 1, Shown: 1</div></div>"
      ]
     },
     "metadata": {},
     "output_type": "display_data"
    }
   ],
   "source": [
    "PREFIX rdfs: <http://www.w3.org/2000/01/rdf-schema#>\n",
    "PREFIX up: <http://purl.uniprot.org/core/>\n",
    "PREFIX uniprotkb: <http://purl.uniprot.org/uniprot/>\n",
    "\n",
    "SELECT ?description\n",
    "WHERE\n",
    "{\n",
    "  uniprotkb:Q9SZZ8 ?pred ?enzyme .\n",
    "  ?enzyme up:activity ?activity .\n",
    "  ?activity a up:Catalytic_Activity .\n",
    "  ?activity rdfs:label ?description\n",
    " \n",
    "}"
   ]
  },
  {
   "cell_type": "markdown",
   "metadata": {},
   "source": [
    "Retrieve the proteins ids, and date of submission, for proteins that have been added to UniProt this year   (HINT Google for “SPARQL FILTER by date”)"
   ]
  },
  {
   "cell_type": "code",
   "execution_count": 6,
   "metadata": {},
   "outputs": [
    {
     "data": {
      "text/html": [
       "<div class=\"krn-spql\"><table><tr class=hdr><th>id</th>\n",
       "<th>date</th></tr><tr class=odd><td class=val>A0A1H7ADE3</td>\n",
       "<td class=val>2021-06-02</td></tr><tr class=even><td class=val>A0A1V1AIL4</td>\n",
       "<td class=val>2021-06-02</td></tr><tr class=odd><td class=val>A0A2Z0L603</td>\n",
       "<td class=val>2021-06-02</td></tr><tr class=even><td class=val>A0A4J5GG53</td>\n",
       "<td class=val>2021-04-07</td></tr><tr class=odd><td class=val>A0A6G8SU52</td>\n",
       "<td class=val>2021-02-10</td></tr><tr class=even><td class=val>A0A6G8SU69</td>\n",
       "<td class=val>2021-02-10</td></tr><tr class=odd><td class=val>A0A7C9JLR7</td>\n",
       "<td class=val>2021-02-10</td></tr><tr class=even><td class=val>A0A7C9JMZ7</td>\n",
       "<td class=val>2021-02-10</td></tr><tr class=odd><td class=val>A0A7C9KUQ4</td>\n",
       "<td class=val>2021-02-10</td></tr><tr class=even><td class=val>A0A7D4HP61</td>\n",
       "<td class=val>2021-02-10</td></tr></table><div class=\"tinfo\">Total: 10, Shown: 10</div></div>"
      ]
     },
     "metadata": {},
     "output_type": "display_data"
    }
   ],
   "source": [
    "PREFIX xsd: <http://www.w3.org/2001/XMLSchema#>\n",
    "PREFIX up: <http://purl.uniprot.org/core/>\n",
    "\n",
    "SELECT ?id ?date\n",
    "WHERE\n",
    "{\n",
    "  ?protein a up:Protein .\n",
    "  BIND (SUBSTR(STR(?protein),33,42) AS ?id)\n",
    "  ?protein up:created ?date .\n",
    "  FILTER (?date >= \"2021\"^^xsd:dateTime && ?date < \"2022\"^^xsd:dateTime) .\n",
    "} LIMIT 10"
   ]
  },
  {
   "cell_type": "markdown",
   "metadata": {},
   "source": [
    "The result is limited because if I don't do so, it takes a long time to get the results (I am not even able to get the results). In the web page, the results are got in a very fast way. "
   ]
  },
  {
   "cell_type": "markdown",
   "metadata": {},
   "source": [
    " How  many species are in the UniProt taxonomy?"
   ]
  },
  {
   "cell_type": "code",
   "execution_count": 7,
   "metadata": {},
   "outputs": [
    {
     "data": {
      "text/html": [
       "<div class=\"krn-spql\"><table><tr class=hdr><th>count</th></tr><tr class=odd><td class=val>2029846</td></tr></table><div class=\"tinfo\">Total: 1, Shown: 1</div></div>"
      ]
     },
     "metadata": {},
     "output_type": "display_data"
    }
   ],
   "source": [
    "PREFIX up: <http://purl.uniprot.org/core/>\n",
    "\n",
    "SELECT (COUNT (DISTINCT ?species) AS ?count) \n",
    "WHERE\n",
    "{\n",
    "  ?species up:rank up:Species .\n",
    "} "
   ]
  },
  {
   "cell_type": "markdown",
   "metadata": {},
   "source": [
    " How many species have at least one protein record? (this might take a long time to execute, so do this one last!)"
   ]
  },
  {
   "cell_type": "code",
   "execution_count": 9,
   "metadata": {},
   "outputs": [],
   "source": [
    "PREFIX up: <http://purl.uniprot.org/core/>\n",
    "\n",
    "SELECT (COUNT (DISTINCT ?species) AS ?count)\n",
    "WHERE\n",
    "{\n",
    "\n",
    "  ?protein a up:Protein .\n",
    "  ?protein ?pred ?species .\n",
    "  ?species up:rank up:Species .\n",
    "  \n",
    "} "
   ]
  },
  {
   "cell_type": "markdown",
   "metadata": {},
   "source": [
    "This query didn't give any result here, in the jupyter notebook. If the query is executed in the web page, we obtain 1057158. "
   ]
  },
  {
   "cell_type": "markdown",
   "metadata": {},
   "source": [
    "Find the AGI codes and gene names for all Arabidopsis thaliana  proteins that have a protein function annotation description that mentions “pattern formation”"
   ]
  },
  {
   "cell_type": "code",
   "execution_count": 8,
   "metadata": {},
   "outputs": [
    {
     "data": {
      "text/html": [
       "<div class=\"krn-spql\"><table><tr class=hdr><th>locus_name</th>\n",
       "<th>gene_name</th></tr><tr class=odd><td class=val>At3g54220</td>\n",
       "<td class=val>SCR</td></tr><tr class=even><td class=val>At1g13980</td>\n",
       "<td class=val>GN</td></tr><tr class=odd><td class=val>At4g21750</td>\n",
       "<td class=val>ATML1</td></tr><tr class=even><td class=val>At5g40260</td>\n",
       "<td class=val>SWEET8</td></tr><tr class=odd><td class=val>At1g69670</td>\n",
       "<td class=val>CUL3B</td></tr><tr class=even><td class=val>At1g63700</td>\n",
       "<td class=val>YDA</td></tr><tr class=odd><td class=val>At2g46710</td>\n",
       "<td class=val>ROPGAP3</td></tr><tr class=even><td class=val>At1g26830</td>\n",
       "<td class=val>CUL3A</td></tr><tr class=odd><td class=val>At3g09090</td>\n",
       "<td class=val>DEX1</td></tr><tr class=even><td class=val>At5g55250</td>\n",
       "<td class=val>IAMT1</td></tr><tr class=odd><td class=val>At4g37650</td>\n",
       "<td class=val>SHR</td></tr><tr class=even><td class=val>At3g02130</td>\n",
       "<td class=val>RPK2</td></tr><tr class=odd><td class=val>At2g42580</td>\n",
       "<td class=val>TTL3</td></tr><tr class=even><td class=val>At1g69270</td>\n",
       "<td class=val>RPK1</td></tr><tr class=odd><td class=val>At5g02010</td>\n",
       "<td class=val>ROPGEF7</td></tr><tr class=even><td class=val>At1g66470</td>\n",
       "<td class=val>RHD6</td></tr><tr class=odd><td class=val>At5g37800</td>\n",
       "<td class=val>RSL1</td></tr></table><div class=\"tinfo\">Total: 17, Shown: 17</div></div>"
      ]
     },
     "metadata": {},
     "output_type": "display_data"
    }
   ],
   "source": [
    "PREFIX up: <http://purl.uniprot.org/core/>\n",
    "PREFIX rdfs: <http://www.w3.org/2000/01/rdf-schema#>\n",
    "PREFIX skos: <http://www.w3.org/2004/02/skos/core#>\n",
    "\n",
    "\n",
    "SELECT ?locus_name ?gene_name\n",
    "WHERE\n",
    "{\n",
    "    ?protein a up:Protein .\n",
    "    ?protein ?pred1 ?taxon .\n",
    "    ?taxon a up:Taxon .\n",
    "    ?taxon ?pred2 \"Arabidopsis thaliana\" .\n",
    "  \n",
    "  \t?protein ?pred3 ?gene .\n",
    "  \t?gene a up:Gene .\n",
    "    ?gene up:locusName ?locus_name .\n",
    "  \t?gene skos:prefLabel ?gene_name .\n",
    "  \n",
    "    ?protein ?pred4 ?annotation .\n",
    "    ?annotation a up:Function_Annotation . \n",
    "  \t?annotation rdfs:comment ?description\n",
    "  \tFILTER regex(?description, \"pattern formation\") .\n",
    "\n",
    "} "
   ]
  },
  {
   "cell_type": "markdown",
   "metadata": {},
   "source": [
    "What is the MetaNetX Reaction identifier (starts with “mnxr”) for the UniProt Protein uniprotkb:Q18A79?"
   ]
  },
  {
   "cell_type": "code",
   "execution_count": null,
   "metadata": {},
   "outputs": [
    {
     "data": {
      "text/html": [
       "<div class=\"krn-spql\"><div class=\"magic\">Endpoint set to: https://rdf.metanetx.org/sparql</div></div>"
      ],
      "text/plain": [
       "Endpoint set to: https://rdf.metanetx.org/sparql\n"
      ]
     },
     "metadata": {},
     "output_type": "display_data"
    }
   ],
   "source": [
    "%endpoint https://rdf.metanetx.org/sparql"
   ]
  },
  {
   "cell_type": "code",
   "execution_count": 10,
   "metadata": {},
   "outputs": [
    {
     "data": {
      "text/html": [
       "<div class=\"krn-spql\"><table><tr class=hdr><th>MNX_id</th></tr><tr class=odd><td class=val>MNXR145046</td></tr><tr class=even><td class=val>MNXR165934</td></tr></table><div class=\"tinfo\">Total: 2, Shown: 2</div></div>"
      ]
     },
     "metadata": {},
     "output_type": "display_data"
    }
   ],
   "source": [
    "PREFIX mnx: <https://rdf.metanetx.org/schema/>\n",
    "PREFIX uniprotkb: <http://purl.uniprot.org/uniprot/>\n",
    "\n",
    "SELECT DISTINCT ?MNX_id\n",
    "\n",
    "WHERE{\n",
    "  \n",
    "  ?pept mnx:peptXref uniprotkb:Q18A79 .\n",
    "  \n",
    "  ?cata mnx:pept ?pept .\n",
    "\n",
    "  ?gpr mnx:cata ?cata .\n",
    "\n",
    "  ?gpr mnx:reac ?reac  .\n",
    "    \n",
    "  ?reac mnx:mnxr ?reacR .\n",
    "\n",
    "  ?reacR rdfs:label ?MNX_id\n",
    "}"
   ]
  },
  {
   "cell_type": "markdown",
   "metadata": {},
   "source": [
    "What is the official Gene ID (UniProt calls this a “mnemonic”) and the MetaNetX Reaction identifier (mnxr…..) for the protein that has “Starch synthase” catalytic activity in Clostridium difficile (taxon 272563)?"
   ]
  },
  {
   "cell_type": "code",
   "execution_count": 11,
   "metadata": {},
   "outputs": [
    {
     "data": {
      "text/html": [
       "<div class=\"krn-spql\"><div class=\"magic\">Endpoint set to: https://sparql.uniprot.org/sparql</div><div class=\"magic\">Request format: JSON</div></div>"
      ],
      "text/plain": [
       "Endpoint set to: https://sparql.uniprot.org/sparql\n",
       "Request format: JSON\n"
      ]
     },
     "metadata": {},
     "output_type": "display_data"
    },
    {
     "data": {
      "text/html": [
       "<div class=\"krn-spql\"><table><tr class=hdr><th>mnemonic</th>\n",
       "<th>MNX_id</th></tr><tr class=odd><td class=val>GLGA_CLOD6</td>\n",
       "<td class=val>MNXR145046</td></tr><tr class=even><td class=val>GLGA_CLOD6</td>\n",
       "<td class=val>MNXR165934</td></tr></table><div class=\"tinfo\">Total: 2, Shown: 2</div></div>"
      ]
     },
     "metadata": {},
     "output_type": "display_data"
    }
   ],
   "source": [
    "%endpoint https://sparql.uniprot.org/sparql\n",
    "%format JSON\n",
    "\n",
    "PREFIX up: <http://purl.uniprot.org/core/>\n",
    "PREFIX uniprotkb: <http://purl.uniprot.org/uniprot/>\n",
    "PREFIX taxon: <http://purl.uniprot.org/taxonomy/>\n",
    "PREFIX mnx: <https://rdf.metanetx.org/schema/>\n",
    "PREFIX rdfs: <http://www.w3.org/2000/01/rdf-schema#>\n",
    "\n",
    "SELECT DISTINCT ?mnemonic ?MNX_id\n",
    "WHERE\n",
    "{\n",
    "    ?protein a up:Protein .\n",
    "    ?protein up:organism taxon:272563 .\n",
    "             \n",
    "  \t?protein up:classifiedWith ?goTerm .\n",
    "   \t?goTerm rdfs:subClassOf <http://purl.obolibrary.org/obo/GO_0003674> .\n",
    "    ?goTerm rdfs:label ?moltype .\n",
    "  \n",
    "  \tFILTER regex(?moltype, \"starch synthase\") .\n",
    "  \t?protein up:mnemonic ?mnemonic .\n",
    "\n",
    "    SERVICE <https://rdf.metanetx.org/sparql> {\n",
    "  \t\n",
    "    ?pept a mnx:PEPT .\n",
    "      \n",
    "  \t?pept mnx:peptXref ?protein .\n",
    "  \n",
    "    ?cata mnx:pept ?pept .\n",
    "\n",
    "    ?gpr mnx:cata ?cata .\n",
    "\n",
    "    ?gpr mnx:reac ?reac  .\n",
    "\n",
    "    ?reac mnx:mnxr ?reacR .\n",
    "\n",
    "    ?reacR rdfs:label ?MNX_id\n",
    "           \n",
    "    }\n",
    "  \n",
    "} "
   ]
  }
 ],
 "metadata": {
  "interpreter": {
   "hash": "9af5f40a1519fbddec7c8775fc04df430af0b1f0fcb1145304892a48ba0b0176"
  },
  "kernelspec": {
   "display_name": "SPARQL",
   "language": "sparql",
   "name": "sparql"
  },
  "language_info": {
   "codemirror_mode": {
    "name": "sparql"
   },
   "mimetype": "application/sparql-query",
   "name": "sparql",
   "pygments_lexer": "sparql-nb"
  }
 },
 "nbformat": 4,
 "nbformat_minor": 2
}
